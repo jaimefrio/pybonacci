{
 "metadata": {
  "name": "",
  "signature": "sha256:efc4aa07b5422de1d0e75594013347a9e847b9ee11154887280c29f1968d60f4"
 },
 "nbformat": 3,
 "nbformat_minor": 0,
 "worksheets": [
  {
   "cells": [
    {
     "cell_type": "markdown",
     "metadata": {},
     "source": [
      "> Cuando miras largo tiempo a un abismo, el abismo tambi\u00e9n mira dentro de ti\n",
      ">\n",
      "> -- Friedrich Nietzsche\n",
      "\n",
      "Si uno usa Numpy asiduamente lo normal es que se pase la vida consultando [la (extraordinaria) documentaci\u00f3n que hay en l\u00ednea](http://docs.scipy.org/doc/). Aunque est\u00e1 en un rinconcito discreto, de tanto ir el c\u00e1ntaro a la fuente, acaba uno por descubrir el enlace de `[source]` que aparece junto al nombre de la mayor\u00eda de funciones. No recuerdo cu\u00e1ndo fue la primera vez que me aventur\u00e9 a seguirlo. Pero s\u00ed que recuerdo la sensaci\u00f3n de desasosiego, de sentirme peque\u00f1ito en la inmensidad de una cantidad de c\u00f3digo inabarcable y a duras penas comprensible"
     ]
    },
    {
     "cell_type": "markdown",
     "metadata": {},
     "source": [
      "Probablemente uno de los m\u00f3dulos m\u00e1s agradecidos de visitar sea [`numpy.lib.arraysetops.py`](https://github.com/numpy/numpy/blob/maintenance/1.9.x/numpy/lib/arraysetops.py), que es donde viven funciones como [`np.unique` ](http://docs.scipy.org/doc/numpy/reference/generated/numpy.unique.html), [`np.in1d`](http://docs.scipy.org/doc/numpy/reference/generated/numpy.in1d.html) y compa\u00f1\u00eda. La gracia de este m\u00f3dulo viene del hecho de que implementa, usando s\u00f3lo Python y unas cu\u00e1ntas funciones elementales de Numpy"
     ]
    },
    {
     "cell_type": "code",
     "collapsed": false,
     "input": [],
     "language": "python",
     "metadata": {},
     "outputs": []
    },
    {
     "cell_type": "code",
     "collapsed": false,
     "input": [],
     "language": "python",
     "metadata": {},
     "outputs": []
    }
   ],
   "metadata": {}
  }
 ]
}