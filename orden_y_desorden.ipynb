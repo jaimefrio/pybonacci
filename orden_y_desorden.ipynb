{
 "metadata": {
  "name": "",
  "signature": "sha256:efc4aa07b5422de1d0e75594013347a9e847b9ee11154887280c29f1968d60f4"
 },
 "nbformat": 3,
 "nbformat_minor": 0,
 "worksheets": [
  {
   "cells": [
    {
     "cell_type": "markdown",
     "metadata": {},
     "source": [
      "> Cuando miras largo tiempo a un abismo, el abismo tambi\u00e9n mira dentro de ti\n",
      ">\n",
      "> -- Friedrich Nietzsche\n",
      "\n",
      "Si uno usa NumPy asiduamente lo normal es que se pase la vida consultando la extraordinaria [documentaci\u00f3n](http://docs.scipy.org/doc/) que hay en l\u00ednea. Aunque est\u00e1 en un rinconcito discreto, de tanto ir el c\u00e1ntaro a la fuente, acaba uno por descubrir el enlace de `[source]` que aparece junto al nombre de la mayor\u00eda de funciones. No recuerdo cu\u00e1ndo fue la primera vez hice click en \u00e9l, pero s\u00ed que recuerdo la sensaci\u00f3n de desasosiego, de sentirme peque\u00f1ito en la inmensidad de una cantidad de c\u00f3digo inabarcable y poco menos que incomprensible.\n",
      "\n"
     ]
    },
    {
     "cell_type": "markdown",
     "metadata": {},
     "source": [
      "Probablemente uno de los m\u00f3dulos m\u00e1s agradecidos de visitar sea [`numpy.lib.arraysetops.py`](https://github.com/numpy/numpy/blob/maintenance/1.9.x/numpy/lib/arraysetops.py), que es donde viven funciones como [`numpy.unique` ](http://docs.scipy.org/doc/numpy/reference/generated/numpy.unique.html), [`numpy.in1d`](http://docs.scipy.org/doc/numpy/reference/generated/numpy.in1d.html) y compa\u00f1\u00eda. La gracia de este m\u00f3dulo viene del hecho de que implementa, usando s\u00f3lo Python y unas cu\u00e1ntas funciones elementales de NumPy, las operaciones b\u00e1sicas con conjuntos."
     ]
    },
    {
     "cell_type": "markdown",
     "metadata": {},
     "source": [
      "La operaci\u00f3n m\u00e1s elemental es obtener la lista de elementos \u00fanicos que hay en un array. La idea del m\u00e9todo es bien sencilla: ordenar el array, quedarse con la primera ocurrencia de cada elemento. La implementaci\u00f3n usa una m\u00e1scara booleana, y viene a ser algo as\u00ed como:"
     ]
    },
    {
     "cell_type": "code",
     "collapsed": false,
     "input": [
      "import numpy as np"
     ],
     "language": "python",
     "metadata": {},
     "outputs": [],
     "prompt_number": 12
    },
    {
     "cell_type": "code",
     "collapsed": false,
     "input": [
      "a = np.random.randint(2, 6, size=8)\n",
      "a"
     ],
     "language": "python",
     "metadata": {},
     "outputs": [
      {
       "metadata": {},
       "output_type": "pyout",
       "prompt_number": 13,
       "text": [
        "array([3, 2, 3, 2, 3, 5, 3, 4])"
       ]
      }
     ],
     "prompt_number": 13
    },
    {
     "cell_type": "code",
     "collapsed": false,
     "input": [
      "a_sort = np.sort(a)\n",
      "a_sort"
     ],
     "language": "python",
     "metadata": {},
     "outputs": [
      {
       "metadata": {},
       "output_type": "pyout",
       "prompt_number": 14,
       "text": [
        "array([2, 2, 3, 3, 3, 3, 4, 5])"
       ]
      }
     ],
     "prompt_number": 14
    },
    {
     "cell_type": "code",
     "collapsed": false,
     "input": [
      "mask = a_sort[:-1] != a_sort[1:]\n",
      "mask"
     ],
     "language": "python",
     "metadata": {},
     "outputs": [
      {
       "metadata": {},
       "output_type": "pyout",
       "prompt_number": 15,
       "text": [
        "array([False,  True, False, False, False,  True,  True], dtype=bool)"
       ]
      }
     ],
     "prompt_number": 15
    },
    {
     "cell_type": "code",
     "collapsed": false,
     "input": [
      "mask = np.concatenate(([True], mask))\n",
      "mask"
     ],
     "language": "python",
     "metadata": {},
     "outputs": [
      {
       "metadata": {},
       "output_type": "pyout",
       "prompt_number": 16,
       "text": [
        "array([ True, False,  True, False, False, False,  True,  True], dtype=bool)"
       ]
      }
     ],
     "prompt_number": 16
    },
    {
     "cell_type": "code",
     "collapsed": false,
     "input": [
      "unique = a_sort[mask]\n",
      "unique"
     ],
     "language": "python",
     "metadata": {},
     "outputs": [
      {
       "metadata": {},
       "output_type": "pyout",
       "prompt_number": 17,
       "text": [
        "array([2, 3, 4, 5])"
       ]
      }
     ],
     "prompt_number": 17
    },
    {
     "cell_type": "markdown",
     "metadata": {},
     "source": [
      "Es todo razonablemente sencillo: comparamos cada elemento con el inmediatamente posterior, lo que nos permite descubrir todas las primeras ocurrencias de cada elemento \u00fanico, excepto el primero, que lo a\u00f1adimos expl\u00edcitamente. Y aunque hay que ordenar el array, que es la operaci\u00f3n que eventualmente domina por completo el tiempo de ejecuci\u00f3n, para tama\u00f1os de array comedidos es incluso m\u00e1s r\u00e1pido que implementaciones m\u00e1s elaboradas usando matrices asociativas (o sea, una [hash table](http://es.wikipedia.org/wiki/Tabla_hash) para que nos entendamos)."
     ]
    },
    {
     "cell_type": "markdown",
     "metadata": {},
     "source": [
      "La cosa se complica un poco m\u00e1s cuando queremos deshacer la operaci\u00f3n que hicimos al ordenar el array. Por poner un ejemplo concreto, `np.unique` se pueda llamar con la opci\u00f3n `return_index=True`, que devulve, adem\u00e1s de los elementos \u00fanicos, el \u00edndice de la primera ocurrencia de cada uno en el array original. El truco est\u00e1 en ordenar el algoritmo indirectamente. Es decir, en vez de llamar a `np.sort`, llamamos a `np.argsort` para conseguir un array de \u00edndices que ordenen el array, \u00edndices que nos guardamos, y usamos acto seguido para ordenar el array.\n",
      "\n",
      "Un detalle importante es que el algoritmo que usemos para ordenar el array tiene que ser estable. Es decir, que si hay elementos repetidos, su posici\u00f3n relativa en el array ordenado tiene que conservarse. El algoritmo por defecto de `np.sort` y `np.argsort` es [quicksort](http://es.wikipedia.org/wiki/Quicksort), que **no** es estable. Afortunadamente tenemos la opci\u00f3n de usar [mergesort](http://es.wikipedia.org/wiki/Ordenamiento_por_mezcla) que s\u00ed es estable. Teniendo esto en cuenta, el algoritmo completo vienes a ser tal que as\u00ed:"
     ]
    },
    {
     "cell_type": "code",
     "collapsed": false,
     "input": [
      "a"
     ],
     "language": "python",
     "metadata": {},
     "outputs": [
      {
       "metadata": {},
       "output_type": "pyout",
       "prompt_number": 18,
       "text": [
        "array([3, 2, 3, 2, 3, 5, 3, 4])"
       ]
      }
     ],
     "prompt_number": 18
    },
    {
     "cell_type": "code",
     "collapsed": false,
     "input": [
      "idx = np.argsort(a, kind='mergesort')\n",
      "idx"
     ],
     "language": "python",
     "metadata": {},
     "outputs": [
      {
       "metadata": {},
       "output_type": "pyout",
       "prompt_number": 19,
       "text": [
        "array([1, 3, 0, 2, 4, 6, 7, 5], dtype=int64)"
       ]
      }
     ],
     "prompt_number": 19
    },
    {
     "cell_type": "code",
     "collapsed": false,
     "input": [
      "a_sort = a[idx]\n",
      "a_sort"
     ],
     "language": "python",
     "metadata": {},
     "outputs": [
      {
       "metadata": {},
       "output_type": "pyout",
       "prompt_number": 20,
       "text": [
        "array([2, 2, 3, 3, 3, 3, 4, 5])"
       ]
      }
     ],
     "prompt_number": 20
    },
    {
     "cell_type": "code",
     "collapsed": false,
     "input": [
      "mask = np.concatenate(([True], a_sort[:-1] != a_sort[1:]))\n",
      "mask"
     ],
     "language": "python",
     "metadata": {},
     "outputs": [
      {
       "metadata": {},
       "output_type": "pyout",
       "prompt_number": 21,
       "text": [
        "array([ True, False,  True, False, False, False,  True,  True], dtype=bool)"
       ]
      }
     ],
     "prompt_number": 21
    },
    {
     "cell_type": "code",
     "collapsed": false,
     "input": [
      "return_index = idx[mask]\n",
      "return_index"
     ],
     "language": "python",
     "metadata": {},
     "outputs": [
      {
       "metadata": {},
       "output_type": "pyout",
       "prompt_number": 22,
       "text": [
        "array([1, 0, 7, 5], dtype=int64)"
       ]
      }
     ],
     "prompt_number": 22
    },
    {
     "cell_type": "markdown",
     "metadata": {},
     "source": [
      "De nuevo es todo relativamente sencillo una vez que sabe uno c\u00f3mo va la cosa, as\u00ed que vamos a complicarlo todo un pel\u00edn m\u00e1s... A `numpy.unique` tambi\u00e9n se le puede pedir que `return_inverse=True`, o sea, que devuelva un array de \u00edndices que permitan reconstruir el array original a partir de los elementos \u00fanicos. Otra manera de decir lo mismo es que te devuelve un array, del mismo tama\u00f1o que el original, que contiene en cada posici\u00f3n, el \u00edndice del elemento \u00fanico que se corresponde con esa posici\u00f3n. La cosa empieza de manera similar al caso anterior, construyendo `idx` (aunque el algoritmo no tiene por qu\u00e9 ser estable en este caso), `a_sort` y `mask` exactamente igual. Y a partir de aqu\u00ed empieza la magia... Primero construimos el array de \u00edndices para el array ordenado, aprovech\u00e1ndonos de que al hacer operaciones aritm\u00e9ticas con valores booleanos, `True` se comporta como un `1`, y `False` como un `0`."
     ]
    },
    {
     "cell_type": "code",
     "collapsed": false,
     "input": [
      "a"
     ],
     "language": "python",
     "metadata": {},
     "outputs": [
      {
       "metadata": {},
       "output_type": "pyout",
       "prompt_number": 26,
       "text": [
        "array([3, 2, 3, 2, 3, 5, 3, 4])"
       ]
      }
     ],
     "prompt_number": 26
    },
    {
     "cell_type": "code",
     "collapsed": false,
     "input": [
      "return_inverse_sort = np.cumsum(mask) - 1\n",
      "return_inverse_sort"
     ],
     "language": "python",
     "metadata": {},
     "outputs": [
      {
       "metadata": {},
       "output_type": "pyout",
       "prompt_number": 23,
       "text": [
        "array([0, 0, 1, 1, 1, 1, 2, 3])"
       ]
      }
     ],
     "prompt_number": 23
    },
    {
     "cell_type": "markdown",
     "metadata": {},
     "source": [
      "Ingenioso, \u00bfverdad? Ahora s\u00f3lo queda desordenar este array para que recupere el ordenamiento original. Y eso, \u00bfc\u00f3mo se hace? Pues la manera m\u00e1s sencilla, que es de hecho la que usan NumPy 1.9.x y anteriores, es la siguiente."
     ]
    },
    {
     "cell_type": "code",
     "collapsed": false,
     "input": [
      "return_inverse = return_inverse_sort[np.argsort(idx)]\n",
      "return_inverse"
     ],
     "language": "python",
     "metadata": {},
     "outputs": [
      {
       "metadata": {},
       "output_type": "pyout",
       "prompt_number": 27,
       "text": [
        "array([1, 0, 1, 0, 1, 3, 1, 2])"
       ]
      }
     ],
     "prompt_number": 27
    },
    {
     "cell_type": "markdown",
     "metadata": {},
     "source": [
      "No es evidente a primera vista, pero si se analiza con detenimiento no queda otra que asumir que s\u00ed, que efectivamente los \u00edndices que ordenan una lista de \u00edndices que ordenan un array, son los \u00edndices que devuelven al array ordenado el ordenamiento que ten\u00eda el array original. Cuesta casi tanto decirlo como aquello de \"tres tristes tigres tragaban trigo en un trigal,\" pero tiene algo m\u00e1s de utilidad.\n",
      "\n",
      "Hay un peque\u00f1o problema con hacerlo as\u00ed: ordenar es de largo la operaci\u00f3n m\u00e1s costosa de todo este procedimiento. Hemos tenido que hacerlo una vez, vale. \u00bfPero es realmente necesario hacerlo la segunda? Pues no. Aunque hay que escribir m\u00e1s c\u00f3digo, es mucho m\u00e1s eficiente hacerlo as\u00ed:"
     ]
    },
    {
     "cell_type": "code",
     "collapsed": false,
     "input": [
      "return_inverse = np.empty_like(return_inverse_sort)\n",
      "return_inverse[idx] = return_inverse_sort\n",
      "return_inverse"
     ],
     "language": "python",
     "metadata": {},
     "outputs": [
      {
       "metadata": {},
       "output_type": "pyout",
       "prompt_number": 29,
       "text": [
        "array([1, 0, 1, 0, 1, 3, 1, 2])"
       ]
      }
     ],
     "prompt_number": 29
    },
    {
     "cell_type": "markdown",
     "metadata": {},
     "source": [
      "Uno de los cambios que vendr\u00e1De hecho, en NumPy 1.10.x"
     ]
    }
   ],
   "metadata": {}
  }
 ]
}